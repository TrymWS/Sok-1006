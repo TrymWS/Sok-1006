{
 "cells": [
  {
   "attachments": {},
   "cell_type": "markdown",
   "id": "154aef80-ecdb-4f3b-800c-360535d5ae10",
   "metadata": {},
   "source": []
  },
  {
   "cell_type": "markdown",
   "id": "629e9587",
   "metadata": {},
   "source": [
    "# SOK-1006 V23\n",
    "\n",
    "## Arbeidskrav 3\n",
    "\n",
    "### Frist fredag 10. februar kl 18.00 i Canvas\n",
    "\n",
    "**Lever inn lenken til ditt repo på GitHub hvor løsningen ligger**. Individuell innlevering.\n",
    "\n",
    "Se Jupyter notatblokk \"Forsmak mappe 1\" for et forslag til fremgangsmåte her, og kap 9 i boka. Samt forelesning 08.02.\n",
    "\n",
    "Vi ser på markedet for oppdrettslaks på s. 101-104 i boka, og som vi har analysert i forelesning 5.      \n",
    "\n",
    "Med en stykkavgift på $t$ kr per enhet pålagt selgere kan vi skrive etterspørsel og tilbud i (1) og (2):   \n",
    "\n",
    "\n",
    "\\begin{equation}\n",
    "   x^{D}= 500 -3.2p\\tag{1}\n",
    "\\end{equation}\n",
    "\n",
    "og tilbud:\n",
    "\n",
    "\n",
    "\\begin{equation}\n",
    "   x^{S}= -100 + 4.3(p-t)\\tag{2}\n",
    "\\end{equation}\n",
    "\n",
    "1. Finn likevektspris og -kvantum for alle verdier av $t$.        \n",
    "2. Finn uttrykk for konsument- og produsentoverskudd, samt avgiftproveny.           \n",
    "2. Tegn likevekten for $t=0$ og fargelegg KO og PO.     \n",
    "2. Tegn inn likevekten for $t=4$, og fargelegg avgiftproveny.      \n",
    "4. Bruk de uttrykkene som du har laget for å fylle ut følgende tabell. NB det er mening at du skal fylle ut tabellen med uttrykk som du har regnet i koden (ikke skriv inn tall manuelt - se Forsmak mappe 1.ipynb)."
   ]
  },
  {
   "attachments": {},
   "cell_type": "markdown",
   "id": "bf8cb89f",
   "metadata": {},
   "source": [
    "Har da naturlig nok tatt en del fra forelesnings notatene, og brukt Github Co-pilot."
   ]
  },
  {
   "cell_type": "code",
   "execution_count": 236,
   "id": "f96d759c",
   "metadata": {},
   "outputs": [],
   "source": [
    "import sympy as sp\n",
    "import numpy as np\n",
    "from matplotlib import pyplot as plt"
   ]
  },
  {
   "attachments": {},
   "cell_type": "markdown",
   "id": "cbf95b11",
   "metadata": {},
   "source": [
    "1. Finn likevektspris og -kvantum for alle verdier av $t$.        \n"
   ]
  },
  {
   "cell_type": "code",
   "execution_count": 237,
   "id": "c5f0cc01",
   "metadata": {},
   "outputs": [],
   "source": [
    "def demand(p):\n",
    "    return 500-(3.2*p)\n",
    "def supply(p,t):\n",
    "    return (4.3*(p-t))-100"
   ]
  },
  {
   "cell_type": "code",
   "execution_count": 238,
   "id": "53bc7d91",
   "metadata": {},
   "outputs": [
    {
     "data": {
      "text/latex": [
       "$\\displaystyle 500 - 3.2 p = 4.3 p - 4.3 t - 100$"
      ],
      "text/plain": [
       "Eq(500 - 3.2*p, 4.3*p - 4.3*t - 100)"
      ]
     },
     "execution_count": 238,
     "metadata": {},
     "output_type": "execute_result"
    }
   ],
   "source": [
    "# definer symboler i sympy\n",
    "\n",
    "x,p,t,=sp.symbols('x p t', positive=True, real=True)\n",
    "\n",
    "# betingelse for likevekt\n",
    "\n",
    "eq_cond=sp.Eq(demand(p),supply(p,t))\n",
    "eq_cond"
   ]
  },
  {
   "cell_type": "code",
   "execution_count": 239,
   "id": "c107fedf",
   "metadata": {},
   "outputs": [
    {
     "name": "stdout",
     "output_type": "stream",
     "text": [
      "Likevektspris for alle verdier av t er: 0.573333333333333*t + 80.0\n"
     ]
    }
   ],
   "source": [
    "# løs for p\n",
    "p_eq=sp.solve(eq_cond,p)\n",
    "#p_eq[0]\n",
    "\n",
    "# Likevektspris som funksjon av t\n",
    "\n",
    "p_eq_fn=sp.lambdify(\n",
    "    (t), \n",
    "    p_eq[0]\n",
    ")\n",
    "\n",
    "print(\"Likevektspris for alle verdier av t er:\", p_eq_fn(t))"
   ]
  },
  {
   "cell_type": "code",
   "execution_count": 240,
   "id": "37cfdb30",
   "metadata": {},
   "outputs": [
    {
     "name": "stdout",
     "output_type": "stream",
     "text": [
      "Likevektskvantum for alle verdier av t er: 244.0 - 1.83466666666667*t\n"
     ]
    }
   ],
   "source": [
    "# finn tilsvarende kvantum\n",
    "x_eq=supply(p_eq[0],t)\n",
    "#x_eq\n",
    "\n",
    "# Likevektskvantum som funksjon av t\n",
    "\n",
    "x_eq_fn=sp.lambdify(\n",
    "    (t), \n",
    "    x_eq\n",
    ")\n",
    "\n",
    "print(\"Likevektskvantum for alle verdier av t er:\", x_eq_fn(t))"
   ]
  },
  {
   "cell_type": "code",
   "execution_count": 241,
   "id": "829f09c6",
   "metadata": {},
   "outputs": [
    {
     "data": {
      "text/plain": [
       "236.66133333333332"
      ]
     },
     "execution_count": 241,
     "metadata": {},
     "output_type": "execute_result"
    }
   ],
   "source": [
    "# Kvantum omsatt med avgift på kjøper på t=4\n",
    "x_opt4 = x_eq_fn(4)\n",
    "x_opt4"
   ]
  },
  {
   "cell_type": "code",
   "execution_count": 242,
   "id": "83405501",
   "metadata": {},
   "outputs": [
    {
     "data": {
      "text/plain": [
       "82.29"
      ]
     },
     "execution_count": 242,
     "metadata": {},
     "output_type": "execute_result"
    }
   ],
   "source": [
    "# prisen som konsumenten må betale er\n",
    "p_kons4 = round(p_eq_fn(4),2)\n",
    "p_kons4"
   ]
  },
  {
   "cell_type": "code",
   "execution_count": 243,
   "id": "d7dd55d7",
   "metadata": {},
   "outputs": [
    {
     "data": {
      "text/plain": [
       "78.29"
      ]
     },
     "execution_count": 243,
     "metadata": {},
     "output_type": "execute_result"
    }
   ],
   "source": [
    "# prisen som produsenten får er\n",
    "p_kons4 -4"
   ]
  },
  {
   "cell_type": "code",
   "execution_count": 244,
   "id": "4f914f5e",
   "metadata": {},
   "outputs": [
    {
     "name": "stdout",
     "output_type": "stream",
     "text": [
      "likevektspris med t=0 er 80.0\n"
     ]
    }
   ],
   "source": [
    "p_kons4 = round(p_eq_fn(4),2)\n",
    "print(\"likevektspris med t=0 er\",p_kons)"
   ]
  },
  {
   "cell_type": "code",
   "execution_count": 245,
   "id": "f9917f49",
   "metadata": {},
   "outputs": [
    {
     "name": "stdout",
     "output_type": "stream",
     "text": [
      "Likevektskvantum med t=0 er 244.0\n"
     ]
    }
   ],
   "source": [
    "x_opt4 = round(x_eq_fn(4),2)\n",
    "print(\"Likevektskvantum med t=0 er\",x_opt)"
   ]
  },
  {
   "attachments": {},
   "cell_type": "markdown",
   "id": "c26e9f3a",
   "metadata": {},
   "source": [
    "2. Finn uttrykk for konsument- og produsentoverskudd, samt avgiftproveny. "
   ]
  },
  {
   "cell_type": "code",
   "execution_count": 246,
   "id": "61b5fad4",
   "metadata": {},
   "outputs": [
    {
     "data": {
      "text/latex": [
       "$\\displaystyle 344.0 t - 5760.0$"
      ],
      "text/plain": [
       "344.0*t - 5760.0"
      ]
     },
     "execution_count": 246,
     "metadata": {},
     "output_type": "execute_result"
    }
   ],
   "source": [
    "producer_surplus=sp.integrate(supply(p,t),(p,p_kons,0))\n",
    "producer_surplus"
   ]
  },
  {
   "cell_type": "code",
   "execution_count": 247,
   "id": "bdc20ef5",
   "metadata": {},
   "outputs": [
    {
     "data": {
      "text/latex": [
       "$\\displaystyle 26742.4$"
      ],
      "text/plain": [
       "26742.4000000000"
      ]
     },
     "execution_count": 247,
     "metadata": {},
     "output_type": "execute_result"
    }
   ],
   "source": [
    "consumer_surplus=sp.integrate(demand(p),(p,0,x_opt))\n",
    "consumer_surplus"
   ]
  },
  {
   "cell_type": "code",
   "execution_count": 278,
   "id": "a0faa6f5",
   "metadata": {},
   "outputs": [
    {
     "data": {
      "text/latex": [
       "$\\displaystyle 0$"
      ],
      "text/plain": [
       "0"
      ]
     },
     "execution_count": 278,
     "metadata": {},
     "output_type": "execute_result"
    }
   ],
   "source": [
    "welfare_surplus=sp.integrate(demand(p)-supply(p,t),(p,0,0))\n",
    "welfare_surplus"
   ]
  },
  {
   "cell_type": "code",
   "execution_count": 282,
   "id": "33df62c5",
   "metadata": {},
   "outputs": [
    {
     "data": {
      "text/latex": [
       "$\\displaystyle 326.8 t - 6125.6$"
      ],
      "text/plain": [
       "326.8*t - 6125.6"
      ]
     },
     "execution_count": 282,
     "metadata": {},
     "output_type": "execute_result"
    }
   ],
   "source": [
    "producer_surplus4=sp.integrate(supply(p,t),(p,p_kons,4))\n",
    "producer_surplus4"
   ]
  },
  {
   "cell_type": "code",
   "execution_count": 280,
   "id": "6898a74e",
   "metadata": {},
   "outputs": [
    {
     "data": {
      "text/latex": [
       "$\\displaystyle 24768.0$"
      ],
      "text/plain": [
       "24768.0000000000"
      ]
     },
     "execution_count": 280,
     "metadata": {},
     "output_type": "execute_result"
    }
   ],
   "source": [
    "consumer_surplus4=sp.integrate(demand(p),(p,4,x_opt))\n",
    "consumer_surplus4"
   ]
  },
  {
   "cell_type": "code",
   "execution_count": 281,
   "id": "b560e7af",
   "metadata": {},
   "outputs": [
    {
     "data": {
      "text/latex": [
       "$\\displaystyle - 17.2 t - 2340.0$"
      ],
      "text/plain": [
       "-17.2*t - 2340.0"
      ]
     },
     "execution_count": 281,
     "metadata": {},
     "output_type": "execute_result"
    }
   ],
   "source": [
    "welfare_surplus4=sp.integrate(demand(p)-supply(p,t),(p,4,0))\n",
    "welfare_surplus4"
   ]
  },
  {
   "attachments": {},
   "cell_type": "markdown",
   "id": "49f7b176",
   "metadata": {},
   "source": [
    "2. Tegn likevekten for $t=0$ og fargelegg KO og PO.  "
   ]
  },
  {
   "cell_type": "code",
   "execution_count": 249,
   "id": "4df8cbf2",
   "metadata": {},
   "outputs": [
    {
     "data": {
      "image/png": "[encoded data removed]",
      "text/plain": [
       "<Figure size 640x480 with 1 Axes>"
      ]
     },
     "metadata": {},
     "output_type": "display_data"
    }
   ],
   "source": [
    "t_num=np.linspace(0,150,250)\n",
    "q = np.linspace(0,x_opt,250)\n",
    "\n",
    "#lag en akse\n",
    "\n",
    "def create_ax():\n",
    "                fig, ax = plt.subplots()\n",
    "                ax.set_ylabel('Pris (p)', loc='top')\n",
    "                ax.set_xlabel('Kvantum (x)', loc='right')\n",
    "                ax.set(xlim=(200,300))\n",
    "                ax.set(ylim=(60,100))\n",
    "                ax.spines['top'].set_color('none')\n",
    "                ax.spines['right'].set_color('none')\n",
    "                \n",
    "                return fig, ax\n",
    "\n",
    "fig, ax = create_ax()\n",
    "\n",
    "# plott funksjonen\n",
    "\n",
    "ax.plot(demand(t_num), t_num, label='Etterspørsel', color='red')\n",
    "ax.plot(supply(t_num,0), t_num, label='Tilbud', color='blue')\n",
    "\n",
    "# plott likevektspris og kvantum\n",
    "\n",
    "ax.plot(x_opt, p_kons, 'o', color='black', label='Likevekt')\n",
    "\n",
    "ax.hlines(p_kons, 0, x_opt, color='black', linestyle='dashed')\n",
    "ax.vlines(x_opt, 0, p_kons, color='black', linestyle='dashed')\n",
    "\n",
    "#ax.fill_between(q, p_kons, x_opt, color='green', alpha=0.2)\n",
    "\n",
    "\n",
    "# tittel\n",
    "ax.set_title('Markedslikevekt')\n",
    "\n",
    "#vis navnene:\n",
    "ax.legend(bbox_to_anchor=(1.5,0.6));"
   ]
  },
  {
   "attachments": {},
   "cell_type": "markdown",
   "id": "59ec922a",
   "metadata": {},
   "source": [
    "2. Tegn inn likevekten for $t=4$, og fargelegg avgiftproveny."
   ]
  },
  {
   "cell_type": "code",
   "execution_count": 250,
   "id": "16d3af70",
   "metadata": {},
   "outputs": [
    {
     "data": {
      "image/png": "[encoded data removed]",
      "text/plain": [
       "<Figure size 640x480 with 1 Axes>"
      ]
     },
     "execution_count": 250,
     "metadata": {},
     "output_type": "execute_result"
    }
   ],
   "source": [
    "ax.plot(supply(t_num,4), t_num, label='Tilbud t=4', color='green')\n",
    "\n",
    "ax.plot(x_opt4, p_kons4, 'o', color='blue', label='Likevekt t=4')\n",
    "\n",
    "ax.hlines(p_kons4, 0, x_opt4, color='blue', linestyle='dashed')\n",
    "ax.vlines(x_opt4, 0, p_kons4, color='blue', linestyle='dashed')\n",
    "\n",
    "ax.legend(bbox_to_anchor=(1.5,0.6));\n",
    "\n",
    "\n",
    "fig"
   ]
  },
  {
   "attachments": {},
   "cell_type": "markdown",
   "id": "948cd60a",
   "metadata": {},
   "source": [
    "4. Bruk de uttrykkene som du har laget for å fylle ut følgende tabell. NB det er mening at du skal fylle ut tabellen med uttrykk som du har regnet i koden (ikke skriv inn tall manuelt - se Forsmak mappe 1.ipynb)."
   ]
  },
  {
   "cell_type": "code",
   "execution_count": 287,
   "id": "2073d1c7",
   "metadata": {},
   "outputs": [
    {
     "data": {
      "text/markdown": [
       "\n",
       "|                     | Før avgift            |Etter avgift    | Endring (etter avgift-før avgift)|\n",
       "| :-------------------| :----------------------------------------|:-------------|:---------------|\n",
       "| Konsumentpris   | $80.0$    | $82.29$   | $2.29$ |\n",
       "|Produsentpris  | $80.0$ | $78.29$  | $-1.71$ |\n",
       "|Kvantum  | $244.0$ | $236.66$  |  $-7.34$  |\n",
       "| Konsumentoverskudd: | $26742.4000000000$ |  $24768.0000000000$ |   $-1974.40000000000$  |\n",
       "| Produsentoverskudd: |  $344.0*t - 5760.0$ | $326.8*t - 6125.6$  |  $-17.2*t - 365.6$ |\n",
       "| KO + PO:    | $344.0*t + 20982.4$   |  $326.8*t + 18642.4$  |  $-17.2*t - 2340.0$  |\n",
       "|Skatteproveny| 0  | $946.64$ |  $946.64$  |\n",
       "| Dødvektstap  |0   |   ||\n"
      ],
      "text/plain": [
       "<IPython.core.display.Markdown object>"
      ]
     },
     "metadata": {},
     "output_type": "display_data"
    }
   ],
   "source": [
    "from IPython.display import Markdown\n",
    "\n",
    "tbl=f\"\"\"\n",
    "|                     | Før avgift            |Etter avgift    | Endring (etter avgift-før avgift)|\n",
    "| :-------------------| :----------------------------------------|:-------------|:---------------|\n",
    "| Konsumentpris   | ${np.round(float(p_kons),2)}$    | ${np.round(float(p_kons4),2)}$   | ${np.round(float(p_kons4 - p_kons),2)}$ |\n",
    "|Produsentpris  | ${np.round(float(p_kons),2)}$ | ${np.round(float(p_kons4 - 4),2)}$  | ${np.round(float((p_kons4 - 4) - p_kons),2)}$ |\n",
    "|Kvantum  | ${np.round(float(x_opt),2)}$ | ${np.round(float(x_opt4),2)}$  |  ${np.round(float(x_opt4 - x_opt),2)}$  |\n",
    "| Konsumentoverskudd: | ${consumer_surplus}$ |  ${consumer_surplus4}$ |   ${consumer_surplus4 - consumer_surplus}$  |\n",
    "| Produsentoverskudd: |  ${producer_surplus}$ | ${producer_surplus4}$  |  ${producer_surplus4 - producer_surplus}$ |\n",
    "| KO + PO:    | ${consumer_surplus + producer_surplus}$   |  ${consumer_surplus4 + producer_surplus4}$  |  ${(consumer_surplus4 + producer_surplus4) - (consumer_surplus + producer_surplus)}$  |\n",
    "|Skatteproveny| 0  | ${4 * x_opt4}$ |  ${(4 * x_opt4) - 0}$  |\n",
    "| Dødvektstap  |0   |   ||\n",
    "\"\"\"\n",
    "display(Markdown(tbl))"
   ]
  },
  {
   "attachments": {},
   "cell_type": "markdown",
   "id": "8f2999da",
   "metadata": {},
   "source": [
    "Dette var så mye jeg fikk gjort, satt fast på ting jeg ikke forstod hvorfor jeg satte meg fart på, som fill_between.\n",
    "\n",
    "Regner også med at noen tallene rundt KO og PO er feil, men vet ikke helt hvorfor eller hvordan jeg får rettet på det på tampen."
   ]
  }
 ],
 "metadata": {
  "kernelspec": {
   "display_name": "Python 3",
   "language": "python",
   "name": "python3"
  },
  "language_info": {
   "codemirror_mode": {
    "name": "ipython",
    "version": 3
   },
   "file_extension": ".py",
   "mimetype": "text/x-python",
   "name": "python",
   "nbconvert_exporter": "python",
   "pygments_lexer": "ipython3",
   "version": "3.10.9"
  },
  "vscode": {
   "interpreter": {
    "hash": "1de2df145f3428cd0b202b24c2a332898b43bf0ff2ac6766bb3d54c487cfc6e4"
   }
  }
 },
 "nbformat": 4,
 "nbformat_minor": 5
}
